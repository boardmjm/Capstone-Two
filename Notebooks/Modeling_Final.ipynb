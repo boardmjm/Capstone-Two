{
 "cells": [
  {
   "cell_type": "markdown",
   "metadata": {},
   "source": [
    "# Capstone 2 - Baseball Stat Projections - Pre-Processing"
   ]
  },
  {
   "cell_type": "code",
   "execution_count": 1,
   "metadata": {},
   "outputs": [],
   "source": [
    "import os\n",
    "import time\n",
    "import pandas as pd\n",
    "import numpy as np\n",
    "import matplotlib.pyplot as plt\n",
    "from sklearn.preprocessing import StandardScaler, MinMaxScaler\n",
    "from sklearn.model_selection import train_test_split, cross_val_score, KFold\n",
    "from sklearn.linear_model import LinearRegression, Ridge, Lasso\n",
    "from sklearn.ensemble import RandomForestRegressor, GradientBoostingRegressor\n",
    "from sklearn.model_selection import GridSearchCV, RandomizedSearchCV, ShuffleSplit\n",
    "from sklearn.feature_selection import RFE\n",
    "from sklearn.dummy import DummyRegressor\n",
    "from sklearn.metrics import explained_variance_score, mean_absolute_error, r2_score, mean_squared_error\n",
    "import statsmodels.api as sm \n",
    "import statsmodels.regression as smr\n",
    "plt.style.use('ggplot')"
   ]
  },
  {
   "cell_type": "code",
   "execution_count": 2,
   "metadata": {},
   "outputs": [
    {
     "data": {
      "text/html": [
       "<div>\n",
       "<style scoped>\n",
       "    .dataframe tbody tr th:only-of-type {\n",
       "        vertical-align: middle;\n",
       "    }\n",
       "\n",
       "    .dataframe tbody tr th {\n",
       "        vertical-align: top;\n",
       "    }\n",
       "\n",
       "    .dataframe thead th {\n",
       "        text-align: right;\n",
       "    }\n",
       "</style>\n",
       "<table border=\"1\" class=\"dataframe\">\n",
       "  <thead>\n",
       "    <tr style=\"text-align: right;\">\n",
       "      <th></th>\n",
       "      <th>player_id</th>\n",
       "      <th>year</th>\n",
       "      <th>salary</th>\n",
       "      <th>age</th>\n",
       "      <th>ops</th>\n",
       "      <th>ops_lg</th>\n",
       "      <th>season_ops</th>\n",
       "      <th>lg_wOBAScale</th>\n",
       "      <th>ops_1</th>\n",
       "      <th>so_1</th>\n",
       "      <th>...</th>\n",
       "      <th>g_2b_prev_2</th>\n",
       "      <th>g_3b_prev_2</th>\n",
       "      <th>g_ss_prev_2</th>\n",
       "      <th>g_of_prev_2</th>\n",
       "      <th>g_dh_prev_2</th>\n",
       "      <th>power</th>\n",
       "      <th>speed</th>\n",
       "      <th>contact</th>\n",
       "      <th>lucky_1</th>\n",
       "      <th>lucky_2</th>\n",
       "    </tr>\n",
       "  </thead>\n",
       "  <tbody>\n",
       "    <tr>\n",
       "      <th>0</th>\n",
       "      <td>abbotku01</td>\n",
       "      <td>1996</td>\n",
       "      <td>250000</td>\n",
       "      <td>27</td>\n",
       "      <td>0.735</td>\n",
       "      <td>0.767128</td>\n",
       "      <td>0.755118</td>\n",
       "      <td>1.171</td>\n",
       "      <td>0.773</td>\n",
       "      <td>110.0</td>\n",
       "      <td>...</td>\n",
       "      <td>0.0</td>\n",
       "      <td>0.0</td>\n",
       "      <td>107.0</td>\n",
       "      <td>0.0</td>\n",
       "      <td>0.0</td>\n",
       "      <td>0</td>\n",
       "      <td>0</td>\n",
       "      <td>0</td>\n",
       "      <td>1</td>\n",
       "      <td>1</td>\n",
       "    </tr>\n",
       "    <tr>\n",
       "      <th>1</th>\n",
       "      <td>abbotku01</td>\n",
       "      <td>1997</td>\n",
       "      <td>650000</td>\n",
       "      <td>28</td>\n",
       "      <td>0.747</td>\n",
       "      <td>0.756034</td>\n",
       "      <td>0.757387</td>\n",
       "      <td>1.201</td>\n",
       "      <td>0.735</td>\n",
       "      <td>99.0</td>\n",
       "      <td>...</td>\n",
       "      <td>10.0</td>\n",
       "      <td>16.5</td>\n",
       "      <td>79.5</td>\n",
       "      <td>0.0</td>\n",
       "      <td>0.0</td>\n",
       "      <td>0</td>\n",
       "      <td>0</td>\n",
       "      <td>0</td>\n",
       "      <td>1</td>\n",
       "      <td>1</td>\n",
       "    </tr>\n",
       "    <tr>\n",
       "      <th>2</th>\n",
       "      <td>abbotku01</td>\n",
       "      <td>1999</td>\n",
       "      <td>900000</td>\n",
       "      <td>30</td>\n",
       "      <td>0.741</td>\n",
       "      <td>0.778393</td>\n",
       "      <td>0.758506</td>\n",
       "      <td>1.156</td>\n",
       "      <td>0.747</td>\n",
       "      <td>68.0</td>\n",
       "      <td>...</td>\n",
       "      <td>37.0</td>\n",
       "      <td>18.5</td>\n",
       "      <td>25.5</td>\n",
       "      <td>5.0</td>\n",
       "      <td>0.0</td>\n",
       "      <td>0</td>\n",
       "      <td>0</td>\n",
       "      <td>0</td>\n",
       "      <td>1</td>\n",
       "      <td>1</td>\n",
       "    </tr>\n",
       "    <tr>\n",
       "      <th>3</th>\n",
       "      <td>abreubo01</td>\n",
       "      <td>2000</td>\n",
       "      <td>2933333</td>\n",
       "      <td>26</td>\n",
       "      <td>0.972</td>\n",
       "      <td>0.782061</td>\n",
       "      <td>0.757387</td>\n",
       "      <td>1.147</td>\n",
       "      <td>0.998</td>\n",
       "      <td>113.0</td>\n",
       "      <td>...</td>\n",
       "      <td>0.0</td>\n",
       "      <td>0.0</td>\n",
       "      <td>0.0</td>\n",
       "      <td>146.0</td>\n",
       "      <td>2.5</td>\n",
       "      <td>0</td>\n",
       "      <td>0</td>\n",
       "      <td>1</td>\n",
       "      <td>1</td>\n",
       "      <td>1</td>\n",
       "    </tr>\n",
       "    <tr>\n",
       "      <th>4</th>\n",
       "      <td>abreubo01</td>\n",
       "      <td>2001</td>\n",
       "      <td>4983000</td>\n",
       "      <td>27</td>\n",
       "      <td>0.941</td>\n",
       "      <td>0.758842</td>\n",
       "      <td>0.762669</td>\n",
       "      <td>1.182</td>\n",
       "      <td>0.972</td>\n",
       "      <td>116.0</td>\n",
       "      <td>...</td>\n",
       "      <td>0.0</td>\n",
       "      <td>0.0</td>\n",
       "      <td>0.0</td>\n",
       "      <td>149.0</td>\n",
       "      <td>2.5</td>\n",
       "      <td>0</td>\n",
       "      <td>0</td>\n",
       "      <td>1</td>\n",
       "      <td>1</td>\n",
       "      <td>1</td>\n",
       "    </tr>\n",
       "  </tbody>\n",
       "</table>\n",
       "<p>5 rows × 32 columns</p>\n",
       "</div>"
      ],
      "text/plain": [
       "   player_id  year   salary  age    ops    ops_lg  season_ops  lg_wOBAScale  \\\n",
       "0  abbotku01  1996   250000   27  0.735  0.767128    0.755118         1.171   \n",
       "1  abbotku01  1997   650000   28  0.747  0.756034    0.757387         1.201   \n",
       "2  abbotku01  1999   900000   30  0.741  0.778393    0.758506         1.156   \n",
       "3  abreubo01  2000  2933333   26  0.972  0.782061    0.757387         1.147   \n",
       "4  abreubo01  2001  4983000   27  0.941  0.758842    0.762669         1.182   \n",
       "\n",
       "   ops_1   so_1  ...  g_2b_prev_2  g_3b_prev_2  g_ss_prev_2  g_of_prev_2  \\\n",
       "0  0.773  110.0  ...          0.0          0.0        107.0          0.0   \n",
       "1  0.735   99.0  ...         10.0         16.5         79.5          0.0   \n",
       "2  0.747   68.0  ...         37.0         18.5         25.5          5.0   \n",
       "3  0.998  113.0  ...          0.0          0.0          0.0        146.0   \n",
       "4  0.972  116.0  ...          0.0          0.0          0.0        149.0   \n",
       "\n",
       "   g_dh_prev_2  power  speed  contact  lucky_1  lucky_2  \n",
       "0          0.0      0      0        0        1        1  \n",
       "1          0.0      0      0        0        1        1  \n",
       "2          0.0      0      0        0        1        1  \n",
       "3          2.5      0      0        1        1        1  \n",
       "4          2.5      0      0        1        1        1  \n",
       "\n",
       "[5 rows x 32 columns]"
      ]
     },
     "execution_count": 2,
     "metadata": {},
     "output_type": "execute_result"
    }
   ],
   "source": [
    "path = \"/Users/joeboardman/Documents/Springboard/GitHub/Capstone-Two/data\"\n",
    "metrics_save_path = \"/Users/joeboardman/Documents/Springboard/GitHub/Capstone-Two/models/\"\n",
    "fig_save_path = \"/Users/joeboardman/Documents/Springboard/GitHub/Capstone-Two/figures/\"\n",
    "os.chdir(path)\n",
    "df = pd.read_csv('Baseball_DW.csv', index_col=0)\n",
    "df_mae_test = pd.read_csv('Baseball_DW.csv', index_col=0)\n",
    "df.head()"
   ]
  },
  {
   "cell_type": "code",
   "execution_count": 3,
   "metadata": {},
   "outputs": [],
   "source": [
    "# Break out response variable and scale data\n",
    "\n",
    "X = df.drop(['player_id', 'ops'], axis=1)\n",
    "\n",
    "y = df.ops\n",
    "\n",
    "scaler = StandardScaler().fit(X)\n",
    "\n",
    "X_scaled = scaler.transform(X)\n"
   ]
  },
  {
   "cell_type": "code",
   "execution_count": 4,
   "metadata": {},
   "outputs": [],
   "source": [
    "# Split data into training and test splits\n",
    "\n",
    "y = y.ravel()\n",
    "\n",
    "X_train, X_test, y_train, y_test = train_test_split(X_scaled, y, test_size=0.15, random_state=34)\n"
   ]
  },
  {
   "cell_type": "markdown",
   "metadata": {},
   "source": [
    "# Capstone 2 - Baseball Stat Projections - Modeling"
   ]
  },
  {
   "cell_type": "markdown",
   "metadata": {},
   "source": [
    "### OPS vs last year's and previous 2 years' OPS Mean Absolute Error"
   ]
  },
  {
   "cell_type": "code",
   "execution_count": 5,
   "metadata": {},
   "outputs": [
    {
     "name": "stdout",
     "output_type": "stream",
     "text": [
      "Mean Absolute Average using OPS-1 vs OPS: 0.076\n",
      "Mean Absolute Average using previous 2 years OPS vs OPS: 0.07\n"
     ]
    }
   ],
   "source": [
    "mae_lastyr = mean_absolute_error(df_mae_test.ops, df_mae_test.ops_1)\n",
    "mae_prev2 = mean_absolute_error(df_mae_test.ops, df_mae_test.ops_prev_2)\n",
    "print('Mean Absolute Average using OPS-1 vs OPS:', mae_lastyr.round(3))\n",
    "print('Mean Absolute Average using previous 2 years OPS vs OPS:', mae_prev2.round(3))"
   ]
  },
  {
   "cell_type": "markdown",
   "metadata": {},
   "source": [
    "### Model 1 - Linear Regression:"
   ]
  },
  {
   "cell_type": "code",
   "execution_count": 6,
   "metadata": {
    "scrolled": false
   },
   "outputs": [
    {
     "name": "stdout",
     "output_type": "stream",
     "text": [
      "R-squared: 0.4633804529070029\n",
      "Mean Absolute Error: 0.06318533761184188\n",
      "Intercept: 0.7686862910089768\n",
      "              Coefficient\n",
      "ops_prev_2   3.163887e+12\n",
      "ops_2        1.774050e+12\n",
      "ops_1        1.772523e+12\n",
      "g_of_prev_2  3.027263e-02\n",
      "g_ss_prev_2  2.833322e-02\n",
      "g_2b_prev_2  2.567830e-02\n",
      "g_c_prev_2   2.261231e-02\n",
      "g_3b_prev_2  2.130159e-02\n",
      "ab_prev_2    1.662276e-02\n",
      "g_1b_prev_2  1.632274e-02\n",
      "Fit time: 0.02501821517944336 seconds\n",
      "Test time: 0.008759021759033203 seconds\n"
     ]
    }
   ],
   "source": [
    "# Model 1 - Linear Regression\n",
    "\n",
    "fit_start_time_linreg = time.time()\n",
    "\n",
    "lin_reg = LinearRegression()\n",
    "model_linreg = lin_reg.fit(X_train, y_train)\n",
    "\n",
    "fit_end_time_linreg = time.time()\n",
    "\n",
    "y_pred_linreg = model_linreg.predict(X_test)\n",
    "\n",
    "# Evaluation Metrics\n",
    "r2_linreg = r2_score(y_test, y_pred_linreg)\n",
    "mae_linreg = mean_absolute_error(y_test, y_pred_linreg)\n",
    "\n",
    "print('R-squared:',r2_linreg)\n",
    "print('Mean Absolute Error:',mae_linreg)\n",
    "print('Intercept:', abs(model_linreg.intercept_))\n",
    "print(pd.DataFrame(abs(lin_reg.coef_), X.columns, columns=['Coefficient']).\n",
    "      sort_values(by='Coefficient', ascending=False).head(10))\n",
    "\n",
    "test_end_time_linreg = time.time()\n",
    "\n",
    "fit_time_linreg = fit_end_time_linreg - fit_start_time_linreg\n",
    "test_time_linreg = test_end_time_linreg - fit_end_time_linreg\n",
    "print('Fit time:',fit_time_linreg, 'seconds')\n",
    "print('Test time:',test_time_linreg, 'seconds')\n",
    "\n",
    "# Create row of metrics DF\n",
    "metrics_linreg = ['Linear Regression', mae_linreg, r2_linreg, fit_time_linreg, test_time_linreg]"
   ]
  },
  {
   "cell_type": "code",
   "execution_count": 7,
   "metadata": {},
   "outputs": [
    {
     "name": "stdout",
     "output_type": "stream",
     "text": [
      "Cross Validation R-squared scores: [0.49197519 0.45363298 0.4827086  0.51727917 0.42841421]\n",
      "Mean Cross Validation R-squared: 0.47480203048178743\n"
     ]
    }
   ],
   "source": [
    "# Cross Validating Linear Regression\n",
    "scores = cross_val_score(lin_reg, X_train, y_train, scoring='r2', cv=5)\n",
    "print('Cross Validation R-squared scores:', scores)\n",
    "print('Mean Cross Validation R-squared:', np.mean(scores))"
   ]
  },
  {
   "cell_type": "code",
   "execution_count": 8,
   "metadata": {},
   "outputs": [
    {
     "data": {
      "image/png": "[encoded data removed]",
      "text/plain": [
       "<Figure size 720x504 with 1 Axes>"
      ]
     },
     "metadata": {},
     "output_type": "display_data"
    }
   ],
   "source": [
    "# Model 1 visual\n",
    "fig_linreg = plt.figure(figsize=(10,7))\n",
    "fig_linreg = plt.scatter(y_test, y_pred_linreg)\n",
    "#fig_linreg = plt.rcParams[\"figure.figsize\"] = (10, 7)\n",
    "plt.title('Linear Regression', fontsize=20)\n",
    "plt.xlim(0.4, 1.4)\n",
    "plt.ylim(0.4, 1.4)\n",
    "plt.xlabel('test')\n",
    "plt.ylabel('pred')\n",
    "plt.show()\n",
    "plt.close()\n",
    "\n",
    "fig_linreg.figure.savefig(fig_save_path + 'LinReg Predictions.png')"
   ]
  },
  {
   "cell_type": "code",
   "execution_count": 9,
   "metadata": {},
   "outputs": [
    {
     "name": "stdout",
     "output_type": "stream",
     "text": [
      "236    0.221\n",
      "Name: diffcol, dtype: float64\n",
      "871   -0.381\n",
      "Name: diffcol, dtype: float64\n"
     ]
    }
   ],
   "source": [
    "# *****TEST*****\n",
    "\n",
    "df_X_test_lr = pd.DataFrame(data=X_test, columns=X.columns).reset_index(drop=True)\n",
    "df_y_test_lr = pd.DataFrame(data=y_test, columns=['ops'])\n",
    "df_y_pred_lr = pd.DataFrame(data=y_pred_linreg, columns=['ops_pred'])\n",
    "\n",
    "df_diff_all_lr = pd.concat([df_X_test_lr, df_y_test_lr, df_y_pred_lr], axis=1) \n",
    "df_diff_all_lr['diffcol'] = df_diff_all_lr.ops_pred - df_diff_all_lr.ops\n",
    "\n",
    "cols = ['year', 'salary', 'age', 'ops_lg', 'season_ops',\n",
    "       'lg_wOBAScale', 'ops_1', 'so_1', 'ops_2', 'ops_prev_2', 'bb%_prev_2',\n",
    "       'k%_prev_2', 'XBA%_prev_2', 'ab_prev_2', 'avg_prev_2', 'BABIP_prev_2',\n",
    "       'g_c_prev_2', 'g_1b_prev_2', 'g_2b_prev_2', 'g_3b_prev_2',\n",
    "       'g_ss_prev_2', 'g_of_prev_2', 'g_dh_prev_2']\n",
    "\n",
    "for col in cols:\n",
    "    df_diff_all_lr[col] = (df_diff_all_lr[col] * X[col].std()) + X[col].mean()\n",
    "    \n",
    "df_diff_all_lr = df_diff_all_lr.round(3)\n",
    "\n",
    "print(df_diff_all_lr.diffcol.nlargest(1))\n",
    "print(df_diff_all_lr.diffcol.nsmallest(1))\n",
    "df_diff_all_lr.dropna(how='any', inplace=True)\n"
   ]
  },
  {
   "cell_type": "code",
   "execution_count": 10,
   "metadata": {},
   "outputs": [
    {
     "data": {
      "text/html": [
       "<div>\n",
       "<style scoped>\n",
       "    .dataframe tbody tr th:only-of-type {\n",
       "        vertical-align: middle;\n",
       "    }\n",
       "\n",
       "    .dataframe tbody tr th {\n",
       "        vertical-align: top;\n",
       "    }\n",
       "\n",
       "    .dataframe thead th {\n",
       "        text-align: right;\n",
       "    }\n",
       "</style>\n",
       "<table border=\"1\" class=\"dataframe\">\n",
       "  <thead>\n",
       "    <tr style=\"text-align: right;\">\n",
       "      <th></th>\n",
       "      <th>year</th>\n",
       "      <th>salary</th>\n",
       "      <th>age</th>\n",
       "      <th>ops_1</th>\n",
       "      <th>ops_2</th>\n",
       "      <th>ops_prev_2</th>\n",
       "      <th>ops</th>\n",
       "      <th>ops_pred</th>\n",
       "      <th>diffcol</th>\n",
       "    </tr>\n",
       "  </thead>\n",
       "  <tbody>\n",
       "    <tr>\n",
       "      <th>871</th>\n",
       "      <td>2001.0</td>\n",
       "      <td>1.030052e+07</td>\n",
       "      <td>37.0</td>\n",
       "      <td>1.132</td>\n",
       "      <td>1.009</td>\n",
       "      <td>1.071</td>\n",
       "      <td>1.38</td>\n",
       "      <td>0.999</td>\n",
       "      <td>-0.381</td>\n",
       "    </tr>\n",
       "  </tbody>\n",
       "</table>\n",
       "</div>"
      ],
      "text/plain": [
       "       year        salary   age  ops_1  ops_2  ops_prev_2   ops  ops_pred  \\\n",
       "871  2001.0  1.030052e+07  37.0  1.132  1.009       1.071  1.38     0.999   \n",
       "\n",
       "     diffcol  \n",
       "871   -0.381  "
      ]
     },
     "execution_count": 10,
     "metadata": {},
     "output_type": "execute_result"
    }
   ],
   "source": [
    "# *****TEST*****\n",
    "df_dig_lr = df_diff_all_lr[['year', 'salary', 'age', 'ops_1', 'ops_2', 'ops_prev_2', 'ops', 'ops_pred', 'diffcol']]\n",
    "\n",
    "df_dig_lr.iloc[[871]]\n",
    "#df_dig_lr[df_dig_lr.ops == 1.0]"
   ]
  },
  {
   "cell_type": "code",
   "execution_count": 11,
   "metadata": {},
   "outputs": [
    {
     "data": {
      "text/html": [
       "<div>\n",
       "<style scoped>\n",
       "    .dataframe tbody tr th:only-of-type {\n",
       "        vertical-align: middle;\n",
       "    }\n",
       "\n",
       "    .dataframe tbody tr th {\n",
       "        vertical-align: top;\n",
       "    }\n",
       "\n",
       "    .dataframe thead th {\n",
       "        text-align: right;\n",
       "    }\n",
       "</style>\n",
       "<table border=\"1\" class=\"dataframe\">\n",
       "  <thead>\n",
       "    <tr style=\"text-align: right;\">\n",
       "      <th></th>\n",
       "      <th>player_id</th>\n",
       "      <th>year</th>\n",
       "      <th>age</th>\n",
       "      <th>ops</th>\n",
       "      <th>ops_1</th>\n",
       "      <th>ops_2</th>\n",
       "    </tr>\n",
       "  </thead>\n",
       "  <tbody>\n",
       "    <tr>\n",
       "      <th>540</th>\n",
       "      <td>bondsba01</td>\n",
       "      <td>2001</td>\n",
       "      <td>37</td>\n",
       "      <td>1.38</td>\n",
       "      <td>1.132</td>\n",
       "      <td>1.009</td>\n",
       "    </tr>\n",
       "  </tbody>\n",
       "</table>\n",
       "</div>"
      ],
      "text/plain": [
       "     player_id  year  age   ops  ops_1  ops_2\n",
       "540  bondsba01  2001   37  1.38  1.132  1.009"
      ]
     },
     "execution_count": 11,
     "metadata": {},
     "output_type": "execute_result"
    }
   ],
   "source": [
    "df_var_lr = df[['player_id', 'year', 'age', 'ops', 'ops_1', 'ops_2']]\n",
    "df_var_lr[df_var_lr.ops == 1.38]"
   ]
  },
  {
   "cell_type": "markdown",
   "metadata": {},
   "source": [
    "### Model 2 - Random Forest with All Features:"
   ]
  },
  {
   "cell_type": "code",
   "execution_count": 12,
   "metadata": {},
   "outputs": [],
   "source": [
    "# Split data for ensemble models\n",
    "\n",
    "X_train_ensemble, X_test_ensemble, y_train_ensemble, y_test_ensemble = train_test_split(X, y, test_size=0.15, random_state=34)"
   ]
  },
  {
   "cell_type": "markdown",
   "metadata": {},
   "source": [
    "#### GridSearchCV on RF Model:"
   ]
  },
  {
   "cell_type": "code",
   "execution_count": 52,
   "metadata": {},
   "outputs": [
    {
     "name": "stdout",
     "output_type": "stream",
     "text": [
      "Fitting 3 folds for each of 800 candidates, totalling 2400 fits\n"
     ]
    },
    {
     "name": "stderr",
     "output_type": "stream",
     "text": [
      "[Parallel(n_jobs=-1)]: Using backend LokyBackend with 4 concurrent workers.\n",
      "[Parallel(n_jobs=-1)]: Done  33 tasks      | elapsed:   29.9s\n",
      "[Parallel(n_jobs=-1)]: Done 154 tasks      | elapsed:  2.4min\n",
      "[Parallel(n_jobs=-1)]: Done 357 tasks      | elapsed:  6.3min\n",
      "[Parallel(n_jobs=-1)]: Done 640 tasks      | elapsed: 13.3min\n",
      "[Parallel(n_jobs=-1)]: Done 1005 tasks      | elapsed: 20.2min\n",
      "[Parallel(n_jobs=-1)]: Done 1450 tasks      | elapsed: 27.9min\n",
      "[Parallel(n_jobs=-1)]: Done 1977 tasks      | elapsed: 43.3min\n",
      "[Parallel(n_jobs=-1)]: Done 2400 out of 2400 | elapsed: 55.9min finished\n"
     ]
    },
    {
     "name": "stdout",
     "output_type": "stream",
     "text": [
      "Run time: 3356.6399660110474 seconds\n",
      "{'bootstrap': True, 'max_depth': 30, 'max_features': 'sqrt', 'min_samples_leaf': 2, 'min_samples_split': 10}\n"
     ]
    }
   ],
   "source": [
    "# Random Forest GridSearch\n",
    "\n",
    "start_time_GS_cv = time.time()\n",
    "\n",
    "# Number of trees in random forest\n",
    "#n_estimators = [int(x) for x in np.linspace(start = 100, stop = 1000, num = 100)]\n",
    "# Number of features to consider at every split\n",
    "max_features = ['auto', 'sqrt']\n",
    "# Maximum number of levels in tree\n",
    "max_depth = [5, 10, 15, 20, 30, 40, 50, 75, 100]\n",
    "max_depth.append(None)\n",
    "# Minimum number of samples required to split a node\n",
    "min_samples_split = [2, 5, 7, 10]\n",
    "# Minimum number of samples required at each leaf node\n",
    "min_samples_leaf = [1, 2, 4, 7, 10]\n",
    "# Method of selecting samples for training each tree\n",
    "bootstrap = [True, False]\n",
    "\n",
    "param_grid = {'max_depth':max_depth,\n",
    "             'max_features':max_features,\n",
    "             'min_samples_split':min_samples_split,\n",
    "             'min_samples_leaf':min_samples_leaf,\n",
    "             'bootstrap':bootstrap}\n",
    "rfr = RandomForestRegressor()\n",
    "rfr_gs = GridSearchCV(estimator = rfr, param_grid = param_grid, cv = 3, verbose=2, n_jobs = -1)\n",
    "\n",
    "rfr_gs.fit(X_train_ensemble, y_train_ensemble)\n",
    "\n",
    "end_time_GS_cv = time.time()\n",
    "print('Run time:',end_time_GS_cv - start_time_GS_cv, 'seconds')\n",
    "print(rfr_gs.best_params_)"
   ]
  },
  {
   "cell_type": "code",
   "execution_count": 53,
   "metadata": {},
   "outputs": [
    {
     "name": "stdout",
     "output_type": "stream",
     "text": [
      "Model Performance\n",
      "Average Error: 0.0638 degrees.\n",
      "Accuracy = 91.57%.\n"
     ]
    }
   ],
   "source": [
    "# Evaluation formula\n",
    "def evaluate(model, test_features, test_labels):\n",
    "    predictions = model.predict(test_features)\n",
    "    errors = abs(predictions - test_labels)\n",
    "    mape = 100 * np.mean(errors / test_labels)\n",
    "    accuracy = 100 - mape\n",
    "    print('Model Performance')\n",
    "    print('Average Error: {:0.4f} degrees.'.format(np.mean(errors)))\n",
    "    print('Accuracy = {:0.2f}%.'.format(accuracy))\n",
    "    \n",
    "    return accuracy\n",
    "\n",
    "# Run model with best parameters\n",
    "\n",
    "rfr_gridsearch = rfr_gs.best_estimator_\n",
    "rfr_gridsearch.fit(X_train_ensemble, y_train_ensemble)\n",
    "gs_accuracy = evaluate(rfr_gridsearch, X_test_ensemble, y_test_ensemble)\n",
    "\n"
   ]
  },
  {
   "cell_type": "code",
   "execution_count": 13,
   "metadata": {},
   "outputs": [
    {
     "name": "stdout",
     "output_type": "stream",
     "text": [
      "R-squared: 0.4510161314475253\n",
      "Mean Absolute Error: 0.06353120756252682\n",
      "Fit time: 11.135334730148315 seconds\n",
      "Test time: 0.24969196319580078 seconds\n"
     ]
    }
   ],
   "source": [
    "# Model 2 - Random Forest Regression\n",
    "\n",
    "fit_start_time_rfr_all = time.time()\n",
    "\n",
    "rfr = RandomForestRegressor(n_estimators=1000, bootstrap=True, max_depth=30, max_features='sqrt', \n",
    "                            min_samples_leaf=1, min_samples_split=7,random_state=34)\n",
    "#rfr = RandomForestRegressor(n_estimators=100, random_state=34)\n",
    "\n",
    "model_rfr_all = rfr.fit(X_train_ensemble, y_train_ensemble)\n",
    "\n",
    "fit_end_time_rfr_all = time.time()\n",
    "\n",
    "y_pred_rfr_all = model_rfr_all.predict(X_test_ensemble)\n",
    "\n",
    "# Evaluation Metrics\n",
    "r2_rfr_all = r2_score(y_test_ensemble, y_pred_rfr_all)\n",
    "mae_rfr_all = mean_absolute_error(y_test_ensemble, y_pred_rfr_all)\n",
    "\n",
    "print('R-squared:',r2_rfr_all)\n",
    "print('Mean Absolute Error:',mae_rfr_all)\n",
    "\n",
    "test_end_time_rfr_all = time.time()\n",
    "\n",
    "fit_time_rfr_all = fit_end_time_rfr_all - fit_start_time_rfr_all\n",
    "test_time_rfr_all = test_end_time_rfr_all - fit_end_time_rfr_all\n",
    "print('Fit time:',fit_time_rfr_all, 'seconds')\n",
    "print('Test time:',test_time_rfr_all, 'seconds')\n",
    "\n",
    "# Create row of metrics DF\n",
    "metrics_rfr_all = ['Random Forest Regression', mae_rfr_all, r2_rfr_all, fit_time_rfr_all, test_time_rfr_all]\n"
   ]
  },
  {
   "cell_type": "code",
   "execution_count": 14,
   "metadata": {},
   "outputs": [
    {
     "name": "stdout",
     "output_type": "stream",
     "text": [
      "485    0.229\n",
      "Name: diffcol, dtype: float64\n",
      "871   -0.383\n",
      "Name: diffcol, dtype: float64\n"
     ]
    }
   ],
   "source": [
    "# *****TEST*****\n",
    "\n",
    "df_X_test = pd.DataFrame(data=X_test_ensemble, columns=X.columns).reset_index(drop=True)\n",
    "df_y_test = pd.DataFrame(data=y_test_ensemble, columns=['ops'])\n",
    "df_y_pred = pd.DataFrame(data=y_pred_rfr_all, columns=['ops_pred'])\n",
    "\n",
    "df_diff_all = pd.concat([df_X_test, df_y_test, df_y_pred], axis=1) \n",
    "df_diff_all['diffcol'] = df_diff_all.ops_pred - df_diff_all.ops\n",
    "\n",
    "cols = ['year', 'salary', 'age', 'ops_lg', 'season_ops',\n",
    "       'lg_wOBAScale', 'ops_1', 'so_1', 'ops_2', 'ops_prev_2', 'bb%_prev_2',\n",
    "       'k%_prev_2', 'XBA%_prev_2', 'ab_prev_2', 'avg_prev_2', 'BABIP_prev_2',\n",
    "       'g_c_prev_2', 'g_1b_prev_2', 'g_2b_prev_2', 'g_3b_prev_2',\n",
    "       'g_ss_prev_2', 'g_of_prev_2', 'g_dh_prev_2']\n",
    "\n",
    "for col in cols:\n",
    "    df_diff_all[col] = (df_diff_all[col] * X[col].std()) + X[col].mean()\n",
    "    \n",
    "df_diff_all = df_diff_all.round(3)\n",
    "\n",
    "print(df_diff_all.diffcol.nlargest(1))\n",
    "print(df_diff_all.diffcol.nsmallest(1))\n",
    "df_diff_all.dropna(how='any', inplace=True)\n"
   ]
  },
  {
   "cell_type": "code",
   "execution_count": 15,
   "metadata": {},
   "outputs": [
    {
     "data": {
      "text/html": [
       "<div>\n",
       "<style scoped>\n",
       "    .dataframe tbody tr th:only-of-type {\n",
       "        vertical-align: middle;\n",
       "    }\n",
       "\n",
       "    .dataframe tbody tr th {\n",
       "        vertical-align: top;\n",
       "    }\n",
       "\n",
       "    .dataframe thead th {\n",
       "        text-align: right;\n",
       "    }\n",
       "</style>\n",
       "<table border=\"1\" class=\"dataframe\">\n",
       "  <thead>\n",
       "    <tr style=\"text-align: right;\">\n",
       "      <th></th>\n",
       "      <th>year</th>\n",
       "      <th>salary</th>\n",
       "      <th>age</th>\n",
       "      <th>ops_1</th>\n",
       "      <th>ops_2</th>\n",
       "      <th>ops_prev_2</th>\n",
       "      <th>ops</th>\n",
       "      <th>ops_pred</th>\n",
       "      <th>diffcol</th>\n",
       "    </tr>\n",
       "  </thead>\n",
       "  <tbody>\n",
       "    <tr>\n",
       "      <th>871</th>\n",
       "      <td>18267.821</td>\n",
       "      <td>4.499704e+13</td>\n",
       "      <td>165.12</td>\n",
       "      <td>0.899</td>\n",
       "      <td>0.888</td>\n",
       "      <td>0.881</td>\n",
       "      <td>1.38</td>\n",
       "      <td>0.997</td>\n",
       "      <td>-0.383</td>\n",
       "    </tr>\n",
       "  </tbody>\n",
       "</table>\n",
       "</div>"
      ],
      "text/plain": [
       "          year        salary     age  ops_1  ops_2  ops_prev_2   ops  \\\n",
       "871  18267.821  4.499704e+13  165.12  0.899  0.888       0.881  1.38   \n",
       "\n",
       "     ops_pred  diffcol  \n",
       "871     0.997   -0.383  "
      ]
     },
     "execution_count": 15,
     "metadata": {},
     "output_type": "execute_result"
    }
   ],
   "source": [
    "# *****TEST*****\n",
    "df_dig = df_diff_all[['year', 'salary', 'age', 'ops_1', 'ops_2', 'ops_prev_2', 'ops', 'ops_pred', 'diffcol']]\n",
    "\n",
    "df_dig.iloc[[871]]\n"
   ]
  },
  {
   "cell_type": "code",
   "execution_count": 16,
   "metadata": {},
   "outputs": [
    {
     "data": {
      "text/html": [
       "<div>\n",
       "<style scoped>\n",
       "    .dataframe tbody tr th:only-of-type {\n",
       "        vertical-align: middle;\n",
       "    }\n",
       "\n",
       "    .dataframe tbody tr th {\n",
       "        vertical-align: top;\n",
       "    }\n",
       "\n",
       "    .dataframe thead th {\n",
       "        text-align: right;\n",
       "    }\n",
       "</style>\n",
       "<table border=\"1\" class=\"dataframe\">\n",
       "  <thead>\n",
       "    <tr style=\"text-align: right;\">\n",
       "      <th></th>\n",
       "      <th>player_id</th>\n",
       "      <th>year</th>\n",
       "      <th>age</th>\n",
       "      <th>ops</th>\n",
       "      <th>ops_1</th>\n",
       "      <th>ops_2</th>\n",
       "    </tr>\n",
       "  </thead>\n",
       "  <tbody>\n",
       "    <tr>\n",
       "      <th>541</th>\n",
       "      <td>bondsba01</td>\n",
       "      <td>2002</td>\n",
       "      <td>38</td>\n",
       "      <td>1.383</td>\n",
       "      <td>1.38</td>\n",
       "      <td>1.132</td>\n",
       "    </tr>\n",
       "  </tbody>\n",
       "</table>\n",
       "</div>"
      ],
      "text/plain": [
       "     player_id  year  age    ops  ops_1  ops_2\n",
       "541  bondsba01  2002   38  1.383   1.38  1.132"
      ]
     },
     "execution_count": 16,
     "metadata": {},
     "output_type": "execute_result"
    }
   ],
   "source": [
    "df_var = df[['player_id', 'year', 'age', 'ops', 'ops_1', 'ops_2']]\n",
    "df_var[df_var.ops_1 == 1.38]"
   ]
  },
  {
   "cell_type": "code",
   "execution_count": 17,
   "metadata": {
    "scrolled": false
   },
   "outputs": [
    {
     "name": "stdout",
     "output_type": "stream",
     "text": [
      "30\n"
     ]
    },
    {
     "data": {
      "image/png": "[encoded data removed]",
      "text/plain": [
       "<Figure size 360x504 with 1 Axes>"
      ]
     },
     "metadata": {},
     "output_type": "display_data"
    }
   ],
   "source": [
    "feature_importance_rfr_all = model_rfr_all.feature_importances_\n",
    "# make importances relative to max importance\n",
    "feature_importance_rfr_all = 100.0 * (feature_importance_rfr_all / feature_importance_rfr_all.max())\n",
    "sorted_idx_rfr_all = np.argsort(feature_importance_rfr_all)\n",
    "\n",
    "pos_rfr_all = np.arange(sorted_idx_rfr_all.shape[0]) + .5\n",
    "print(pos_rfr_all.size)\n",
    "sorted_idx_rfr_all.size\n",
    "plt.figure(figsize=(5,7))\n",
    "plt.barh(pos_rfr_all, feature_importance_rfr_all[sorted_idx_rfr_all], align='center')\n",
    "plt.yticks(pos_rfr_all, X.columns[sorted_idx_rfr_all])\n",
    "plt.xlabel('Relative Importance')\n",
    "plt.title('Feature Importance')\n",
    "plt.show()\n",
    "plt.close()"
   ]
  },
  {
   "cell_type": "code",
   "execution_count": 18,
   "metadata": {},
   "outputs": [
    {
     "data": {
      "image/png": "[encoded data removed]",
      "text/plain": [
       "<Figure size 720x504 with 1 Axes>"
      ]
     },
     "metadata": {},
     "output_type": "display_data"
    }
   ],
   "source": [
    "# Model 2 visual\n",
    "fig_rfr = plt.figure(figsize=(10,7))\n",
    "fig_rfr = plt.scatter(y_test_ensemble, y_pred_rfr_all)\n",
    "plt.title('Random Forest - All Features', fontsize=20)\n",
    "plt.xlim(0.4, 1.4)\n",
    "plt.ylim(0.4, 1.4)\n",
    "plt.xlabel('test')\n",
    "plt.ylabel('pred')\n",
    "plt.show()\n",
    "plt.close()\n",
    "\n",
    "fig_rfr.figure.savefig(fig_save_path + 'RFR Predictions.png')"
   ]
  },
  {
   "cell_type": "markdown",
   "metadata": {},
   "source": [
    "### Model 4 - Gradient Boosting Model:"
   ]
  },
  {
   "cell_type": "markdown",
   "metadata": {},
   "source": [
    "#### GridSearchCV on Model 4:"
   ]
  },
  {
   "cell_type": "code",
   "execution_count": 41,
   "metadata": {},
   "outputs": [
    {
     "name": "stdout",
     "output_type": "stream",
     "text": [
      "Fitting 3 folds for each of 30 candidates, totalling 90 fits\n"
     ]
    },
    {
     "name": "stderr",
     "output_type": "stream",
     "text": [
      "[Parallel(n_jobs=-1)]: Using backend LokyBackend with 4 concurrent workers.\n",
      "[Parallel(n_jobs=-1)]: Done  33 tasks      | elapsed:   11.7s\n",
      "[Parallel(n_jobs=-1)]: Done  90 out of  90 | elapsed:  1.2min finished\n"
     ]
    },
    {
     "name": "stdout",
     "output_type": "stream",
     "text": [
      "Run time: 69.92539310455322 seconds\n"
     ]
    },
    {
     "data": {
      "text/plain": [
       "{'learning_rate': 0.1,\n",
       " 'max_depth': 3,\n",
       " 'max_features': 'sqrt',\n",
       " 'n_estimators': 100}"
      ]
     },
     "execution_count": 41,
     "metadata": {},
     "output_type": "execute_result"
    }
   ],
   "source": [
    "# Gradient Boosting GridSearch\n",
    "\n",
    "start_time_gb_GS_cv = time.time()\n",
    "\n",
    "max_features = ['log2', 'sqrt', 'auto']\n",
    "max_depth = [1,3,5,10]\n",
    "max_depth.append(None)\n",
    "learning_rate=[0.01, 0.1]\n",
    "\n",
    "param_grid_gb = {'max_depth':max_depth,\n",
    "             'max_features':max_features,\n",
    "             'n_estimators':n_estimators,\n",
    "             'learning_rate':learning_rate}\n",
    "gb = GradientBoostingRegressor()\n",
    "gb_gs = GridSearchCV(estimator = gb, param_grid = param_grid_gb, cv = 3, verbose=2, n_jobs = -1)\n",
    "\n",
    "gb_gs.fit(X_train, y_train)\n",
    "\n",
    "end_time_gb_GS_cv = time.time()\n",
    "print('Run time:',end_time_gb_GS_cv - start_time_gb_GS_cv, 'seconds')\n",
    "gb_gs.best_params_"
   ]
  },
  {
   "cell_type": "code",
   "execution_count": 42,
   "metadata": {},
   "outputs": [
    {
     "name": "stdout",
     "output_type": "stream",
     "text": [
      "Model Performance\n",
      "Average Mean Absolute Error: 0.0628 degrees.\n",
      "Mean Absolute Percentage Error = 91.69%.\n"
     ]
    }
   ],
   "source": [
    "# Evaluation formula\n",
    "def evaluate(model, test_features, test_labels):\n",
    "    predictions = model.predict(test_features)\n",
    "    errors = abs(predictions - test_labels)\n",
    "    mape = 100 * np.mean(errors / test_labels)\n",
    "    accuracy = 100 - mape\n",
    "    print('Model Performance')\n",
    "    print('Average Mean Absolute Error: {:0.4f} degrees.'.format(np.mean(errors)))\n",
    "    print('Mean Absolute Percentage Error = {:0.2f}%.'.format(accuracy))\n",
    "    \n",
    "    return accuracy\n",
    "\n",
    "# Run the model with the best parameters\n",
    "gb_gridsearch = gb_gs.best_estimator_\n",
    "gb_gridsearch.fit(X_train_ensemble, y_train_ensemble)\n",
    "gs_gb_accuracy = evaluate(gb_gridsearch, X_test_ensemble, y_test_ensemble)"
   ]
  },
  {
   "cell_type": "code",
   "execution_count": 19,
   "metadata": {},
   "outputs": [
    {
     "name": "stdout",
     "output_type": "stream",
     "text": [
      "R-squared: 0.46235375063983053\n",
      "Mean Absolute Error: 0.06276995207601484\n",
      "Fit time: 0.5562939643859863 seconds\n",
      "Test time: 0.006417036056518555 seconds\n"
     ]
    }
   ],
   "source": [
    "# Gradient Boosting Model\n",
    "\n",
    "fit_start_time_gb = time.time()\n",
    "\n",
    "gb = GradientBoostingRegressor(n_estimators=100, max_depth=3, max_features = 'sqrt', learning_rate=0.1, \n",
    "                               random_state=34)\n",
    "#gb = GradientBoostingRegressor(n_estimators=100, random_state=34)\n",
    "\n",
    "gb.fit(X_train_ensemble, y_train_ensemble)\n",
    "\n",
    "fit_end_time_gb = time.time()\n",
    "\n",
    "y_pred_gb = gb.predict(X_test_ensemble)\n",
    "\n",
    "r2_gb = r2_score(y_test_ensemble, y_pred_gb)\n",
    "mae_gb = mean_absolute_error(y_test_ensemble, y_pred_gb)\n",
    "\n",
    "print('R-squared:',r2_gb)\n",
    "print('Mean Absolute Error:',mae_gb)\n",
    "\n",
    "test_end_time_gb = time.time()\n",
    "\n",
    "fit_time_gb = fit_end_time_gb - fit_start_time_gb\n",
    "test_time_gb = test_end_time_gb - fit_end_time_gb\n",
    "print('Fit time:',fit_time_gb, 'seconds')\n",
    "print('Test time:',test_time_gb, 'seconds')\n",
    "\n",
    "# Create row of metrics DF\n",
    "metrics_gb = ['Gradient Boosting Regression', mae_gb, r2_gb, fit_time_gb, test_time_gb]\n"
   ]
  },
  {
   "cell_type": "code",
   "execution_count": 20,
   "metadata": {},
   "outputs": [
    {
     "name": "stdout",
     "output_type": "stream",
     "text": [
      "485    0.235\n",
      "Name: diffcol, dtype: float64\n",
      "871   -0.399\n",
      "Name: diffcol, dtype: float64\n"
     ]
    }
   ],
   "source": [
    "# *****TEST*****\n",
    "\n",
    "df_X_test_gb = pd.DataFrame(data=X_test_ensemble, columns=X.columns).reset_index(drop=True)\n",
    "df_y_test_gb = pd.DataFrame(data=y_test_ensemble, columns=['ops'])\n",
    "df_y_pred_gb = pd.DataFrame(data=y_pred_gb, columns=['ops_pred'])\n",
    "\n",
    "df_diff_all_gb = pd.concat([df_X_test_gb, df_y_test_gb, df_y_pred_gb], axis=1) \n",
    "df_diff_all_gb['diffcol'] = df_diff_all_gb.ops_pred - df_diff_all_gb.ops\n",
    "\n",
    "'''cols = ['year', 'salary', 'age', 'ops_lg', 'season_ops',\n",
    "       'lg_wOBAScale', 'ops_1', 'so_1', 'ops_2', 'ops_prev_2', 'bb%_prev_2',\n",
    "       'k%_prev_2', 'XBA%_prev_2', 'ab_prev_2', 'avg_prev_2', 'BABIP_prev_2',\n",
    "       'g_c_prev_2', 'g_1b_prev_2', 'g_2b_prev_2', 'g_3b_prev_2',\n",
    "       'g_ss_prev_2', 'g_of_prev_2', 'g_dh_prev_2']\n",
    "\n",
    "for col in cols:\n",
    "    df_diff_all_gb[col] = (df_diff_all_gb[col] * X[col].std()) + X[col].mean()'''\n",
    "    \n",
    "df_diff_all_gb = df_diff_all_gb.round(3)\n",
    "\n",
    "print(df_diff_all_gb.diffcol.nlargest(1))\n",
    "print(df_diff_all_gb.diffcol.nsmallest(1))\n",
    "df_diff_all_gb.dropna(how='any', inplace=True)\n"
   ]
  },
  {
   "cell_type": "code",
   "execution_count": 21,
   "metadata": {},
   "outputs": [
    {
     "data": {
      "text/html": [
       "<div>\n",
       "<style scoped>\n",
       "    .dataframe tbody tr th:only-of-type {\n",
       "        vertical-align: middle;\n",
       "    }\n",
       "\n",
       "    .dataframe tbody tr th {\n",
       "        vertical-align: top;\n",
       "    }\n",
       "\n",
       "    .dataframe thead th {\n",
       "        text-align: right;\n",
       "    }\n",
       "</style>\n",
       "<table border=\"1\" class=\"dataframe\">\n",
       "  <thead>\n",
       "    <tr style=\"text-align: right;\">\n",
       "      <th></th>\n",
       "      <th>year</th>\n",
       "      <th>salary</th>\n",
       "      <th>age</th>\n",
       "      <th>ops_1</th>\n",
       "      <th>ops_2</th>\n",
       "      <th>ops_prev_2</th>\n",
       "      <th>ops</th>\n",
       "      <th>ops_pred</th>\n",
       "      <th>diffcol</th>\n",
       "    </tr>\n",
       "  </thead>\n",
       "  <tbody>\n",
       "    <tr>\n",
       "      <th>871</th>\n",
       "      <td>2001</td>\n",
       "      <td>10300000</td>\n",
       "      <td>37</td>\n",
       "      <td>1.132</td>\n",
       "      <td>1.009</td>\n",
       "      <td>1.07</td>\n",
       "      <td>1.38</td>\n",
       "      <td>0.981</td>\n",
       "      <td>-0.399</td>\n",
       "    </tr>\n",
       "  </tbody>\n",
       "</table>\n",
       "</div>"
      ],
      "text/plain": [
       "     year    salary  age  ops_1  ops_2  ops_prev_2   ops  ops_pred  diffcol\n",
       "871  2001  10300000   37  1.132  1.009        1.07  1.38     0.981   -0.399"
      ]
     },
     "execution_count": 21,
     "metadata": {},
     "output_type": "execute_result"
    }
   ],
   "source": [
    "# *****TEST*****\n",
    "df_dig_gb = df_diff_all_gb[['year', 'salary', 'age', 'ops_1', 'ops_2', 'ops_prev_2', 'ops', 'ops_pred', 'diffcol']]\n",
    "\n",
    "df_dig_gb.iloc[[871]]\n"
   ]
  },
  {
   "cell_type": "code",
   "execution_count": 22,
   "metadata": {},
   "outputs": [
    {
     "data": {
      "text/html": [
       "<div>\n",
       "<style scoped>\n",
       "    .dataframe tbody tr th:only-of-type {\n",
       "        vertical-align: middle;\n",
       "    }\n",
       "\n",
       "    .dataframe tbody tr th {\n",
       "        vertical-align: top;\n",
       "    }\n",
       "\n",
       "    .dataframe thead th {\n",
       "        text-align: right;\n",
       "    }\n",
       "</style>\n",
       "<table border=\"1\" class=\"dataframe\">\n",
       "  <thead>\n",
       "    <tr style=\"text-align: right;\">\n",
       "      <th></th>\n",
       "      <th>player_id</th>\n",
       "      <th>year</th>\n",
       "      <th>age</th>\n",
       "      <th>ops</th>\n",
       "      <th>ops_1</th>\n",
       "      <th>ops_2</th>\n",
       "    </tr>\n",
       "  </thead>\n",
       "  <tbody>\n",
       "    <tr>\n",
       "      <th>541</th>\n",
       "      <td>bondsba01</td>\n",
       "      <td>2002</td>\n",
       "      <td>38</td>\n",
       "      <td>1.383</td>\n",
       "      <td>1.38</td>\n",
       "      <td>1.132</td>\n",
       "    </tr>\n",
       "  </tbody>\n",
       "</table>\n",
       "</div>"
      ],
      "text/plain": [
       "     player_id  year  age    ops  ops_1  ops_2\n",
       "541  bondsba01  2002   38  1.383   1.38  1.132"
      ]
     },
     "execution_count": 22,
     "metadata": {},
     "output_type": "execute_result"
    }
   ],
   "source": [
    "df_var_gb = df[['player_id', 'year', 'age', 'ops', 'ops_1', 'ops_2']]\n",
    "df_var_gb[df_var_gb.ops_1 == 1.38]"
   ]
  },
  {
   "cell_type": "code",
   "execution_count": 23,
   "metadata": {},
   "outputs": [
    {
     "data": {
      "image/png": "[encoded data removed]",
      "text/plain": [
       "<Figure size 720x504 with 1 Axes>"
      ]
     },
     "metadata": {},
     "output_type": "display_data"
    }
   ],
   "source": [
    "# Gradient Boosting Model visual\n",
    "fig_gb = plt.figure(figsize=(10,7))\n",
    "fig_gb = plt.scatter(y_test_ensemble, y_pred_gb)\n",
    "plt.title('Gradient Boosting', fontsize=20)\n",
    "plt.xlim(0.4, 1.4)\n",
    "plt.ylim(0.4, 1.4)\n",
    "plt.xlabel('test')\n",
    "plt.ylabel('pred')\n",
    "plt.show()\n",
    "plt.close()\n",
    "\n",
    "fig_gb.figure.savefig(fig_save_path + 'GB Predictions.png')"
   ]
  },
  {
   "cell_type": "code",
   "execution_count": 24,
   "metadata": {},
   "outputs": [
    {
     "data": {
      "image/png": "[encoded data removed]",
      "text/plain": [
       "<Figure size 720x504 with 1 Axes>"
      ]
     },
     "metadata": {},
     "output_type": "display_data"
    }
   ],
   "source": [
    "fig_bonds = plt.figure(figsize=(10,7))\n",
    "\n",
    "# Plot actual vs predicted\n",
    "fig_bonds = plt.scatter(df_dig_gb.ops, df_dig_gb.ops_pred, color='green')\n",
    "# error when predicting bonds 2nd to last yr of career after 4 consecutive seasons of the top 8 all time OPS\n",
    "fig_bonds = plt.scatter(df_dig_gb.iloc[485,6], df_dig_gb.iloc[485,7], color='red') # Bonds - last yr of career\n",
    "# error when predicting bonds 73 home run year\n",
    "fig_bonds = plt.scatter(df_dig_gb.iloc[871,6], df_dig_gb.iloc[871,7], color='blue') # Bonds - 73 home run year\n",
    "plt.title('Figure 5: Predicting Barry Bonds', fontsize=20)\n",
    "plt.xlim(0.4, 1.4)\n",
    "plt.ylim(0.4, 1.4)\n",
    "plt.xlabel('test')\n",
    "plt.ylabel('pred')\n",
    "plt.show()\n",
    "plt.close()\n",
    "\n",
    "fig_bonds.figure.savefig(fig_save_path + 'bonds Predictions.png')"
   ]
  },
  {
   "cell_type": "code",
   "execution_count": 25,
   "metadata": {},
   "outputs": [
    {
     "name": "stdout",
     "output_type": "stream",
     "text": [
      "                                 MAE  R-squared  fit_time  test_time\n",
      "Model                                                               \n",
      "Linear Regression             0.0632     0.4634    0.0250     0.0088\n",
      "Random Forest Regression      0.0635     0.4510   11.1353     0.2497\n",
      "Gradient Boosting Regression  0.0628     0.4624    0.5563     0.0064\n"
     ]
    }
   ],
   "source": [
    "# Metrics Dataframe\n",
    "cols = ['Model', 'MAE', 'R-squared', 'fit_time', 'test_time']\n",
    "\n",
    "df_metrics = pd.DataFrame(data=[metrics_linreg, metrics_rfr_all, metrics_gb], columns=cols).set_index('Model')\n",
    "print(df_metrics.round(decimals=4))\n",
    "\n",
    "save_metrics = os.path.join(metrics_save_path, 'df_metrics.csv')\n",
    "df_metrics.to_csv(save_metrics)"
   ]
  },
  {
   "cell_type": "code",
   "execution_count": null,
   "metadata": {},
   "outputs": [],
   "source": []
  },
  {
   "cell_type": "code",
   "execution_count": null,
   "metadata": {},
   "outputs": [],
   "source": []
  }
 ],
 "metadata": {
  "kernelspec": {
   "display_name": "Python 3",
   "language": "python",
   "name": "python3"
  },
  "language_info": {
   "codemirror_mode": {
    "name": "ipython",
    "version": 3
   },
   "file_extension": ".py",
   "mimetype": "text/x-python",
   "name": "python",
   "nbconvert_exporter": "python",
   "pygments_lexer": "ipython3",
   "version": "3.7.6"
  }
 },
 "nbformat": 4,
 "nbformat_minor": 4
}
